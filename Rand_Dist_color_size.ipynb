{
 "cells": [
  {
   "cell_type": "code",
   "execution_count": 2,
   "metadata": {},
   "outputs": [
    {
     "name": "stdout",
     "output_type": "stream",
     "text": [
      "Using matplotlib backend: Qt5Agg\n",
      "Populating the interactive namespace from numpy and matplotlib\n"
     ]
    },
    {
     "name": "stderr",
     "output_type": "stream",
     "text": [
      "/home/txngo/anaconda3/lib/python3.6/site-packages/matplotlib/cbook.py:136: MatplotlibDeprecationWarning: The axisbg attribute was deprecated in version 2.0. Use facecolor instead.\n",
      "  warnings.warn(message, mplDeprecation, stacklevel=1)\n"
     ]
    }
   ],
   "source": [
    "%pylab\n",
    "# -*- coding: utf-8 -*-\n",
    "# Copyright (C) 2015 Laboratoire d'Astrophysique de Marseille\n",
    "# Copyright (C) 2015 Master SPaCE\n",
    "#\n",
    "# Licensed under the CeCILL-v2 licence - see Licence_CeCILL_V2-en.txt\n",
    "# Author: Denis Burgarella\n",
    "\n",
    "\"\"\"\n",
    "Create a random distribution of points (cluster), \n",
    "change the color and size of points\n",
    "move the cluster (r, theta, phi)\n",
    "This is done iteratively until we close the figure.\n",
    "===================================================\n",
    "see, e.g., http://www.labri.fr/perso/nrougier/teaching/matplotlib/#animation\n",
    "\"\"\"\n",
    "\n",
    "import numpy as np\n",
    "import matplotlib.pyplot as plt\n",
    "from mpl_toolkits.mplot3d import Axes3D\n",
    "import matplotlib.animation as animation\n",
    "\n",
    "#pause = True\n",
    "#def onClick(event):\n",
    "#    global pause\n",
    "#    pause ^= True\n",
    "\n",
    "# We reset the main parameters of the plot\n",
    "def update_plot(i, color, size, elev, azim, dist, scat):\n",
    "    global pause\n",
    "    # Set colors...\n",
    "    scat.set_array(color[i])\n",
    "    # Set sizes...\n",
    "    scat.set_sizes(size[i])\n",
    "    # Set elevation annd azimuth...\n",
    "    ax.view_init(elev=elev[i], azim=azim[i])\n",
    "    # Set distance...\n",
    "    ax.dist=dist[i]\n",
    "\n",
    "    return scat,\n",
    "\n",
    "\n",
    "#import IPython; IPython.embed()\n",
    "# How many frame?\n",
    "numframes = 500\n",
    "# How many points?\n",
    "numpoints = 2000\n",
    "\n",
    "# Initialization the position (x, y, z), the color (c) and the size (s) of the points\n",
    "mu, sigma = 0, 0.25 # mean and standard deviation\n",
    "x = np.random.normal(mu, sigma, numpoints)\n",
    "y = np.random.normal(mu, sigma, numpoints)\n",
    "z = np.random.normal(mu, sigma, numpoints)\n",
    "c, s = np.random.random((2, numpoints))\n",
    "\n",
    "# Definition of the data for the new values for each new plot\n",
    "color_data = np.random.random((numframes, numpoints))\n",
    "size_data = 200*np.random.random((numframes, numpoints))\n",
    "elev_data = np.linspace(0, 360, numframes)\n",
    "azim_data = np.linspace(0, 360, numframes)\n",
    "dist_data = np.linspace(50, 1, numframes)\n",
    "\n",
    "fig = plt.figure()\n",
    "ax = Axes3D(fig,  axisbg='pink')\n",
    "#ax = Axes3D(fig)\n",
    "\n",
    "# We do not want the axis\n",
    "ax.set_axis_off()\n",
    "\n",
    "# This is where we plot the cluster\n",
    "scat = ax.scatter(x, y, z, c=c, s=s, alpha=0.5)\n",
    "xmin = np.min(x)\n",
    "xmax = np.max(x)\n",
    "ax.set_xlim(xmin,xmax)\n",
    "ax.set_ylim(xmin,xmax)\n",
    "ax.set_zlim(xmin,xmax)\n",
    "\n",
    "# This is the animation. In fargs, we provide the data for each new plot.\n",
    "#time_text = ax.text(0.05, 0.95,'',horizontalalignment='left',verticalalignment='top', transform=ax.transAxes)\n",
    "#fig.canvas.mpl_connect('button_press_event', onClick)\n",
    "ani = animation.FuncAnimation(fig, update_plot, frames=range(numframes),\n",
    "                                  fargs=(color_data, size_data, \n",
    "                                  elev_data, azim_data, dist_data,\n",
    "                                  scat), blit=False, interval=10, repeat=True)\n",
    "\n",
    "plt.show()\n",
    "\n"
   ]
  }
 ],
 "metadata": {
  "kernelspec": {
   "display_name": "Python 3",
   "language": "python",
   "name": "python3"
  },
  "language_info": {
   "codemirror_mode": {
    "name": "ipython",
    "version": 3
   },
   "file_extension": ".py",
   "mimetype": "text/x-python",
   "name": "python",
   "nbconvert_exporter": "python",
   "pygments_lexer": "ipython3",
   "version": "3.6.1"
  }
 },
 "nbformat": 4,
 "nbformat_minor": 2
}
