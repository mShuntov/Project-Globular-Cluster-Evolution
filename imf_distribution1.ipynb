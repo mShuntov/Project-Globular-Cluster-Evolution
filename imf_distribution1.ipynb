{
 "cells": [
  {
   "cell_type": "code",
   "execution_count": 1,
   "metadata": {},
   "outputs": [
    {
     "name": "stdout",
     "output_type": "stream",
     "text": [
      "Using matplotlib backend: TkAgg\n",
      "Populating the interactive namespace from numpy and matplotlib\n",
      "size of the imf distribution 2465\n",
      "min mass for v: 117.839265131\n",
      "max mass for v: 0.800237847663\n",
      "sizecolumns_2: 21\n",
      "columns size: 43\n",
      "color size: 7000\n",
      "lumin size: 7000\n",
      "this is the imf: [ 1.77008695  1.21076984  0.86201898 ...,  1.44347205  4.91585774\n",
      "  1.72418124]\n"
     ]
    },
    {
     "name": "stderr",
     "output_type": "stream",
     "text": [
      "/home/maeva/.local/lib/python3.5/site-packages/ipykernel_launcher.py:62: RuntimeWarning: invalid value encountered in true_divide\n"
     ]
    },
    {
     "name": "stdout",
     "output_type": "stream",
     "text": [
      "the mass bins are: [ 120.     85.     60.     40.     25.     20.     15.     12.      9.\n",
      "    7.      5.      4.      3.      2.5     2.      1.7     1.5     1.25\n",
      "    1.      0.9     0.8 ]\n",
      "the no_stars_in_bins are: [   2.    2.    4.   10.    3.   17.   18.   28.   32.   82.   68.  128.\n",
      "  124.  199.  199.  148.  300.  480.  270.  351.    0.]\n"
     ]
    }
   ],
   "source": [
    "%pylab\n",
    "\n",
    "#define the imf:\n",
    "\n",
    "def IMF(M):\n",
    "\treturn 0.060 * M**(-2.35)\n",
    "\n",
    "# the limits of the masses\n",
    "M_min = 0.8\n",
    "M_max = 120.\n",
    "\n",
    "N_pts = 1000000\n",
    "\n",
    "h = 0.2\n",
    "u1 = np.random.uniform(low = M_min, high = M_max, size = (N_pts, ))\n",
    "u2 = np.random.uniform(low = 0., high = 1., size = (N_pts, ))\n",
    "\n",
    "# condition to accept the points: when the y-values are below the curve\n",
    "idx = np.where(u2 <= IMF(u1)/h)[0]   # acception criteria \n",
    "v = u1[idx]\n",
    "\n",
    "#print(v)\n",
    "sizev = size(v)\n",
    "print('number of stars', sizev)\n",
    "\n",
    "# v should serve as the size in our 3d cluster plot...\n",
    "\n",
    "vmmin = (max(v))\n",
    "vmmax = (min(v))\n",
    "\n",
    "#print('min mass for v:', vmmin)\n",
    "#print('max mass for v:', vmmax)\n",
    "\n",
    "\n",
    "master_data = loadtxt('master_data_5.dat')\n",
    "\n",
    "age = master_data[:,0]\n",
    "sizerows = size(age)\n",
    "sizecolumns = size(master_data[0,:])\n",
    "sizecolumns_2 = int((sizecolumns-1)/2)\n",
    "#print('sizecolumns_2:', sizecolumns_2)\n",
    "\n",
    "\n",
    "# next we will make matrixes that contain the color and luminosity of all the stars through\n",
    "# all the time\n",
    "\n",
    "color = zeros((sizerows, sizecolumns_2))\n",
    "lumin = zeros((sizerows, sizecolumns_2))\n",
    "\n",
    "for i in range(0, sizecolumns_2-2, 1):\n",
    "    color[:,i] = master_data[:,(i*2)+1]\n",
    "    lumin[:,i] = master_data[:,(i*2)+2]\n",
    "\n",
    "#print('columns size:', sizecolumns)\n",
    "#print('color size:', size(color[:,0]))\n",
    "#print('lumin size:', size(lumin[:,0]))\n",
    "\n",
    "\n",
    "# we define the radius that is\n",
    "# R ~ sqrt(L/T^4)\n",
    "\n",
    "radus = real(sqrt(abs(lumin/color**4)))\n",
    "\n",
    "# Msun_ini : 120, 85, 60, 40, 25, 20, 15, 12, 9, 7, 5, 4, 3,\n",
    "# 2.5, 2, 1.7, 1.5, 1.25, 1, 0.90, 0.80 \n",
    "# the number of masses is: 21\n",
    "nbins = 21\n",
    "\n",
    "#print('this is the imf:', v)\n",
    "#hist(v, bins=nbins, normed = 'True')\n",
    "\n",
    "#the mass bins are:\n",
    "mbins = array([120, 85, 60, 40, 25, 20, 15, 12, 9, 7, 5, 4, 3, 2.5, 2, 1.7, 1.5, 1.25, 1, 0.90, 0.80]) \n",
    "print('the mass bins are:', mbins)\n",
    "\n",
    "no_stars_in_bins = zeros(nbins-1)\n",
    "\n",
    "# we count the numbers of stars in each bin\n",
    "for i in range(0,nbins-1):\n",
    "\tfor j in range(0,size(v)):\n",
    "\t\tif (v[j] < mbins[i] and v[j] >= mbins[i+1]):\n",
    "\t\t\tno_stars_in_bins[i] += 1\n",
    "\n",
    "print('the no_stars_in_bins are:', no_stars_in_bins)"
   ]
  },
  {
   "cell_type": "code",
   "execution_count": null,
   "metadata": {
    "collapsed": true
   },
   "outputs": [],
   "source": []
  }
 ],
 "metadata": {
  "kernelspec": {
   "display_name": "Python 3",
   "language": "python",
   "name": "python3"
  },
  "language_info": {
   "codemirror_mode": {
    "name": "ipython",
    "version": 3
   },
   "file_extension": ".py",
   "mimetype": "text/x-python",
   "name": "python",
   "nbconvert_exporter": "python",
   "pygments_lexer": "ipython3",
   "version": "3.5.2"
  }
 },
 "nbformat": 4,
 "nbformat_minor": 2
}
