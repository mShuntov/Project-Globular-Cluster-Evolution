{
 "cells": [
  {
   "cell_type": "code",
   "execution_count": 2,
   "metadata": {},
   "outputs": [
    {
     "name": "stdout",
     "output_type": "stream",
     "text": [
      "Using matplotlib backend: TkAgg\n",
      "Populating the interactive namespace from numpy and matplotlib\n"
     ]
    }
   ],
   "source": [
    "%pylab"
   ]
  },
  {
   "cell_type": "code",
   "execution_count": 4,
   "metadata": {},
   "outputs": [
    {
     "name": "stderr",
     "output_type": "stream",
     "text": [
      "/usr/lib/python3/dist-packages/matplotlib/backend_bases.py:2437: MatplotlibDeprecationWarning: Using default event loop until function specific to this GUI is implemented\n",
      "  warnings.warn(str, mplDeprecation)\n"
     ]
    }
   ],
   "source": [
    "#Evolution of stars in the HR diagrams\n",
    "#Evolution of only one star, here we use M3 data\n",
    "\n",
    "M3 = loadtxt('M3.dat') \n",
    "M1_5 = loadtxt('M1_5.dat')\n",
    "\n",
    "#take only the third column to have ages\n",
    "age=M3[:,2]\n",
    "\n",
    "\n",
    "\n",
    "for i in range(0,size(M3[:,0])):\n",
    "\n",
    "    plot(M1_5[i,0], M3[i,1],'o', markersize=8, label = 'M1_5')   #plot the HR diagram one by one\n",
    "    \n",
    "    xlim(4,3.60)\n",
    "    ylim(2,4)\n",
    "    \n",
    "    xlabel('log($T_{eff}$)')\n",
    "    ylabel('log($L$)')\n",
    "    title('HR Diagram for Zo = 0.001')\n",
    "    grid()\n",
    "    \n",
    "    #put the text on the diagram with the age of the star for each step\n",
    "    figtext(0.6, 0.8, M3[i,2],fontsize = 14)\n",
    "    figtext(0.5, 0.8, 'AGE:',fontsize = 14, color = 'red',fontweight = 'bold')\n",
    "    figtext(0.8, 0.8, 'years',fontsize = 14)\n",
    "    \n",
    "    #wait before to plot the next point\n",
    "    pause(0.02)\n",
    "    show()\n",
    "    \n",
    "    #remove the previous point to have en evolution\n",
    "    clf()\n",
    "    \n",
    "    \n",
    "#Then we need to generalized this for all stars and fix the problem of the error message after the code running"
   ]
  },
  {
   "cell_type": "code",
   "execution_count": null,
   "metadata": {
    "collapsed": true
   },
   "outputs": [],
   "source": []
  }
 ],
 "metadata": {
  "kernelspec": {
   "display_name": "Python 3",
   "language": "python",
   "name": "python3"
  },
  "language_info": {
   "codemirror_mode": {
    "name": "ipython",
    "version": 3
   },
   "file_extension": ".py",
   "mimetype": "text/x-python",
   "name": "python",
   "nbconvert_exporter": "python",
   "pygments_lexer": "ipython3",
   "version": "3.5.2"
  }
 },
 "nbformat": 4,
 "nbformat_minor": 2
}
